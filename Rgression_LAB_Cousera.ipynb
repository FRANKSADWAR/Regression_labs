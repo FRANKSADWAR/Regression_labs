{
 "cells": [
  {
   "cell_type": "markdown",
   "id": "768ea0e4",
   "metadata": {},
   "source": [
    "# Coursera regression models"
   ]
  },
  {
   "cell_type": "code",
   "execution_count": null,
   "id": "2b5ba043",
   "metadata": {},
   "outputs": [],
   "source": [
    "In this notebook I will start with implementing a linear univariate regrsssion model, $f_{w,b}$"
   ]
  },
  {
   "cell_type": "markdown",
   "id": "a11bef4e",
   "metadata": {},
   "source": [
    "### Notations"
   ]
  },
  {
   "cell_type": "code",
   "execution_count": null,
   "id": "df61f341",
   "metadata": {},
   "outputs": [],
   "source": [
    "$a$  scalar\n",
    "\n",
    "$x^{(i)}$, $y^{(i)}$ is the $i_{th}$ Training Example\n",
    "\n",
    "$m$   Number of training examples\n",
    "\n",
    "$b$   parameter: bias\n",
    "    \n",
    "$w$   parameter: weight\n",
    "    \n",
    "$f_{w,b}(x^{(i)})$ Is the result of the kodel evaluation at $x^{(i)}$ parametized by $w,b$ : $f_{w,b}(x^{(i)}) = wx^{(i)} + b$\n"
   ]
  },
  {
   "cell_type": "code",
   "execution_count": null,
   "id": "6c452af5",
   "metadata": {},
   "outputs": [],
   "source": []
  },
  {
   "cell_type": "code",
   "execution_count": 4,
   "id": "3a80f657",
   "metadata": {},
   "outputs": [],
   "source": [
    "import numpy as np\n",
    "import matplotlib.pyplot as plt\n",
    "#plt.style.use('./deeplearning.mplstyle')"
   ]
  },
  {
   "cell_type": "markdown",
   "id": "e0ea3c08",
   "metadata": {},
   "source": [
    "This example will use a simple regression model using two data points: "
   ]
  },
  {
   "cell_type": "code",
   "execution_count": 7,
   "id": "2341c13d",
   "metadata": {},
   "outputs": [
    {
     "name": "stdout",
     "output_type": "stream",
     "text": [
      "x train = [1. 2.]\n",
      "y train = [300. 500.]\n"
     ]
    }
   ],
   "source": [
    "x_train = np.array([1.0, 2.0])\n",
    "y_train = np.array([300.0, 500.0])\n",
    "print(f\"x train = {x_train}\")\n",
    "print(f\"y train = {y_train}\")"
   ]
  },
  {
   "cell_type": "markdown",
   "id": "aecc9cd0",
   "metadata": {},
   "source": [
    "Number of training examples/features is denoted by $m$ x_train.shape[0] returns the number of training examples"
   ]
  },
  {
   "cell_type": "code",
   "execution_count": 15,
   "id": "7b951dc1",
   "metadata": {},
   "outputs": [
    {
     "name": "stdout",
     "output_type": "stream",
     "text": [
      "Number of training examples: 2\n"
     ]
    }
   ],
   "source": [
    "print(f\"Number of training examples: {x_train.shape[0]}\")"
   ]
  },
  {
   "cell_type": "markdown",
   "id": "327a4830",
   "metadata": {},
   "source": [
    "We use ($x^{(i)}$, $y^{(i)}$) to denote the $i^{th}$ training example. For instance: "
   ]
  },
  {
   "cell_type": "code",
   "execution_count": 17,
   "id": "3958c2c8",
   "metadata": {},
   "outputs": [
    {
     "name": "stdout",
     "output_type": "stream",
     "text": [
      "(x^(0), y^(0)) = (1.0,300.0)\n"
     ]
    }
   ],
   "source": [
    "i = 0\n",
    "x_i = x_train[i]\n",
    "y_i = y_train[i]\n",
    "print(f\"(x^({i}), y^({i})) = ({x_i},{y_i})\")"
   ]
  },
  {
   "cell_type": "code",
   "execution_count": 18,
   "id": "592c56a7",
   "metadata": {},
   "outputs": [
    {
     "data": {
      "text/plain": [
       "Text(0.5, 0, 'House sizes in (sqr feet)')"
      ]
     },
     "execution_count": 18,
     "metadata": {},
     "output_type": "execute_result"
    },
    {
     "data": {
      "image/png": "[encoded data removed]",
      "text/plain": [
       "<Figure size 640x480 with 1 Axes>"
      ]
     },
     "metadata": {},
     "output_type": "display_data"
    }
   ],
   "source": [
    "plt.scatter(x_train, y_train,marker='x',c='r')\n",
    "plt.title(\"Housing prices\")\n",
    "plt.ylabel(\"House prices in (1000s) of dollars\")\n",
    "plt.xlabel(\"House sizes in (sqr feet)\")"
   ]
  },
  {
   "cell_type": "markdown",
   "id": "62e5db2d",
   "metadata": {},
   "source": [
    "**w** and **b** are weights and bias: lets's try to see their effect on a regression model"
   ]
  },
  {
   "cell_type": "code",
   "execution_count": 46,
   "id": "41c02f49",
   "metadata": {},
   "outputs": [],
   "source": [
    "w = 200\n",
    "b = 100"
   ]
  },
  {
   "cell_type": "code",
   "execution_count": 47,
   "id": "c1468e13",
   "metadata": {},
   "outputs": [],
   "source": [
    "def compute_model_output(x, w, b):\n",
    "    \"\"\"\n",
    "    Computes the prediction of a linear model\n",
    "    Args:\n",
    "         x (ndarray(m,)): Data, m examples\n",
    "         w, b (scalar)  : model parameters\n",
    "         \n",
    "     Returns\n",
    "         f_wb (ndarray(m,)): model prediction\n",
    "    \n",
    "    \"\"\"\n",
    "    m = x.shape[0]\n",
    "    f_wb = np.zeros(m)\n",
    "    for i in range(m):\n",
    "        f_wb[i] = w * x[i] + b\n",
    "        \n",
    "    return f_wb    \n",
    "    "
   ]
  },
  {
   "cell_type": "code",
   "execution_count": 48,
   "id": "29aaa584",
   "metadata": {},
   "outputs": [],
   "source": [
    "tmp_f_wb = compute_model_output(x_train, w, b)"
   ]
  },
  {
   "cell_type": "code",
   "execution_count": 49,
   "id": "ed345ca8",
   "metadata": {},
   "outputs": [
    {
     "data": {
      "text/plain": [
       "array([300., 500.])"
      ]
     },
     "execution_count": 49,
     "metadata": {},
     "output_type": "execute_result"
    }
   ],
   "source": [
    "tmp_f_wb"
   ]
  },
  {
   "cell_type": "code",
   "execution_count": 50,
   "id": "e0875640",
   "metadata": {},
   "outputs": [
    {
     "data": {
      "image/png": "[encoded data removed]",
      "text/plain": [
       "<Figure size 640x480 with 1 Axes>"
      ]
     },
     "metadata": {},
     "output_type": "display_data"
    }
   ],
   "source": [
    "plt.plot(x_train, tmp_f_wb,c='b',label='Our prediction')\n",
    "plt.scatter(x_train, y_train, marker = 'x',c='r',label='Actual values')\n",
    "plt.plot(x_train, y_train,c='g')\n",
    "plt.title(\"Housing prices\")\n",
    "plt.ylabel(\"Price in (1000s of dollars)\")\n",
    "plt.xlabel(\"Size (1000 sqft)\")\n",
    "plt.legend()\n",
    "plt.show()"
   ]
  },
  {
   "cell_type": "code",
   "execution_count": 52,
   "id": "acd4afa5",
   "metadata": {
    "scrolled": true
   },
   "outputs": [
    {
     "name": "stdout",
     "output_type": "stream",
     "text": [
      "340 thousand dollars\n"
     ]
    }
   ],
   "source": [
    "w = 200\n",
    "b = 100\n",
    "x_i = 1.2\n",
    "cost_1200_sqft = w * x_i + b\n",
    "print(f\"{cost_1200_sqft:.0f} thousand dollars\")"
   ]
  },
  {
   "cell_type": "markdown",
   "id": "23e39ce3",
   "metadata": {},
   "source": [
    "The function is represented as: \n",
    "    $f(x)$ = $wx$ + $b$"
   ]
  },
  {
   "cell_type": "markdown",
   "id": "a2f78b16",
   "metadata": {},
   "source": [
    "Linear regression builds a model which establishes a relationship between features and targets. \n",
    "- In the example above, the feature was house size and the target was house price\n",
    "- Once a model's parameters $w$ and $b$ have been determined, the model can be used to make predictions on novel data"
   ]
  },
  {
   "cell_type": "markdown",
   "id": "36f67a6c",
   "metadata": {},
   "source": [
    "### The cost function"
   ]
  },
  {
   "cell_type": "markdown",
   "id": "225ba0b0",
   "metadata": {},
   "source": [
    "The cost function is used to compute the squared error between the predicted values and the true values in a regression model.\n",
    "\n",
    "The cost function $J(w,b)$ must be minimised as much as possible in order to get a good fit of the regession model."
   ]
  },
  {
   "cell_type": "markdown",
   "id": "38d95587",
   "metadata": {},
   "source": [
    "Remember that $w$ and $b$ are the models parameters, where $w$ is the slope/gradient and $b$ is the y-intercept, \n",
    "hence adjusting the $w$ and the $b$ leads to a different value of the predicted value $\\hat{y}$.\n",
    "\n",
    "The cost function takes the prediction $\\hat{y}$ and compares it to the target $y$ i.e $\\hat{y}$ - $y$, to get the error."
   ]
  },
  {
   "cell_type": "markdown",
   "id": "1244b54b",
   "metadata": {},
   "source": [
    "The cost function can be written as: \n",
    "    $J_{(w,b)}$ = $\\frac{1}{2m} \\sum \\limits _{i=1} ^ m (\\hat{y}^{(i)} - y^{(i)})^2$\n",
    "    \n",
    "This is called the squared error function, which can be re-written as: "
   ]
  },
  {
   "cell_type": "markdown",
   "id": "dbf8c2a3",
   "metadata": {},
   "source": [
    "$$J(w,b) = \\frac{1}{2m} \\sum\\limits_{i = 1} ^ m (f_{w,b}(x^{(i)}) - y^{(i)})^2 \\tag{1}$$"
   ]
  },
  {
   "cell_type": "markdown",
   "id": "93923208",
   "metadata": {},
   "source": [
    "More mathematical representations:"
   ]
  },
  {
   "cell_type": "markdown",
   "id": "10fedcba",
   "metadata": {},
   "source": [
    "$$\\int_0^\\infty \\frac{x^3}{e^x-1}\\,dx = \\frac{\\pi^4}{15}$$"
   ]
  },
  {
   "cell_type": "code",
   "execution_count": 78,
   "id": "0cae01cc",
   "metadata": {},
   "outputs": [
    {
     "data": {
      "text/html": [
       "<style type=\"text/css\">\n",
       "#T_59202_row0_col0, #T_59202_row0_col1, #T_59202_row0_col2, #T_59202_row1_col0, #T_59202_row1_col3, #T_59202_row1_col4, #T_59202_row2_col0, #T_59202_row2_col2, #T_59202_row2_col3, #T_59202_row3_col0, #T_59202_row3_col1, #T_59202_row3_col2, #T_59202_row3_col3, #T_59202_row3_col4, #T_59202_row4_col0, #T_59202_row4_col1, #T_59202_row4_col2, #T_59202_row4_col3, #T_59202_row4_col4, #T_59202_row5_col0, #T_59202_row5_col2, #T_59202_row5_col3, #T_59202_row6_col0, #T_59202_row6_col1, #T_59202_row6_col4, #T_59202_row7_col0, #T_59202_row7_col1, #T_59202_row7_col2, #T_59202_row7_col4, #T_59202_row8_col0, #T_59202_row9_col2, #T_59202_row9_col4 {\n",
       "  color: black;\n",
       "}\n",
       "#T_59202_row0_col3, #T_59202_row0_col4, #T_59202_row1_col1, #T_59202_row1_col2, #T_59202_row2_col1, #T_59202_row5_col1, #T_59202_row5_col4, #T_59202_row6_col3, #T_59202_row7_col3, #T_59202_row8_col2, #T_59202_row8_col4, #T_59202_row9_col1, #T_59202_row9_col3 {\n",
       "  color: red;\n",
       "}\n",
       "#T_59202_row2_col4, #T_59202_row6_col2, #T_59202_row8_col1, #T_59202_row8_col3, #T_59202_row9_col0 {\n",
       "  color: black;\n",
       "  background-color: yellow;\n",
       "}\n",
       "</style>\n",
       "<table id=\"T_59202\" style=\"font-size: 10px\">\n",
       "  <thead>\n",
       "    <tr>\n",
       "      <th class=\"blank level0\" >&nbsp;</th>\n",
       "      <th id=\"T_59202_level0_col0\" class=\"col_heading level0 col0\" >A</th>\n",
       "      <th id=\"T_59202_level0_col1\" class=\"col_heading level0 col1\" >B</th>\n",
       "      <th id=\"T_59202_level0_col2\" class=\"col_heading level0 col2\" >C</th>\n",
       "      <th id=\"T_59202_level0_col3\" class=\"col_heading level0 col3\" >D</th>\n",
       "      <th id=\"T_59202_level0_col4\" class=\"col_heading level0 col4\" >E</th>\n",
       "    </tr>\n",
       "  </thead>\n",
       "  <tbody>\n",
       "    <tr>\n",
       "      <th id=\"T_59202_level0_row0\" class=\"row_heading level0 row0\" >0</th>\n",
       "      <td id=\"T_59202_row0_col0\" class=\"data row0 col0\" >1.000000</td>\n",
       "      <td id=\"T_59202_row0_col1\" class=\"data row0 col1\" >1.329212</td>\n",
       "      <td id=\"T_59202_row0_col2\" class=\"data row0 col2\" >nan</td>\n",
       "      <td id=\"T_59202_row0_col3\" class=\"data row0 col3\" >-0.316280</td>\n",
       "      <td id=\"T_59202_row0_col4\" class=\"data row0 col4\" >-0.990810</td>\n",
       "    </tr>\n",
       "    <tr>\n",
       "      <th id=\"T_59202_level0_row1\" class=\"row_heading level0 row1\" >1</th>\n",
       "      <td id=\"T_59202_row1_col0\" class=\"data row1 col0\" >2.000000</td>\n",
       "      <td id=\"T_59202_row1_col1\" class=\"data row1 col1\" >-1.070816</td>\n",
       "      <td id=\"T_59202_row1_col2\" class=\"data row1 col2\" >-1.438713</td>\n",
       "      <td id=\"T_59202_row1_col3\" class=\"data row1 col3\" >0.564417</td>\n",
       "      <td id=\"T_59202_row1_col4\" class=\"data row1 col4\" >0.295722</td>\n",
       "    </tr>\n",
       "    <tr>\n",
       "      <th id=\"T_59202_level0_row2\" class=\"row_heading level0 row2\" >2</th>\n",
       "      <td id=\"T_59202_row2_col0\" class=\"data row2 col0\" >3.000000</td>\n",
       "      <td id=\"T_59202_row2_col1\" class=\"data row2 col1\" >-1.626404</td>\n",
       "      <td id=\"T_59202_row2_col2\" class=\"data row2 col2\" >0.219565</td>\n",
       "      <td id=\"T_59202_row2_col3\" class=\"data row2 col3\" >0.678805</td>\n",
       "      <td id=\"T_59202_row2_col4\" class=\"data row2 col4\" >1.889273</td>\n",
       "    </tr>\n",
       "    <tr>\n",
       "      <th id=\"T_59202_level0_row3\" class=\"row_heading level0 row3\" >3</th>\n",
       "      <td id=\"T_59202_row3_col0\" class=\"data row3 col0\" >4.000000</td>\n",
       "      <td id=\"T_59202_row3_col1\" class=\"data row3 col1\" >0.961538</td>\n",
       "      <td id=\"T_59202_row3_col2\" class=\"data row3 col2\" >0.104011</td>\n",
       "      <td id=\"T_59202_row3_col3\" class=\"data row3 col3\" >nan</td>\n",
       "      <td id=\"T_59202_row3_col4\" class=\"data row3 col4\" >0.850229</td>\n",
       "    </tr>\n",
       "    <tr>\n",
       "      <th id=\"T_59202_level0_row4\" class=\"row_heading level0 row4\" >4</th>\n",
       "      <td id=\"T_59202_row4_col0\" class=\"data row4 col0\" >5.000000</td>\n",
       "      <td id=\"T_59202_row4_col1\" class=\"data row4 col1\" >1.453425</td>\n",
       "      <td id=\"T_59202_row4_col2\" class=\"data row4 col2\" >1.057737</td>\n",
       "      <td id=\"T_59202_row4_col3\" class=\"data row4 col3\" >0.165562</td>\n",
       "      <td id=\"T_59202_row4_col4\" class=\"data row4 col4\" >0.515018</td>\n",
       "    </tr>\n",
       "    <tr>\n",
       "      <th id=\"T_59202_level0_row5\" class=\"row_heading level0 row5\" >5</th>\n",
       "      <td id=\"T_59202_row5_col0\" class=\"data row5 col0\" >6.000000</td>\n",
       "      <td id=\"T_59202_row5_col1\" class=\"data row5 col1\" >-1.336936</td>\n",
       "      <td id=\"T_59202_row5_col2\" class=\"data row5 col2\" >0.562861</td>\n",
       "      <td id=\"T_59202_row5_col3\" class=\"data row5 col3\" >1.392855</td>\n",
       "      <td id=\"T_59202_row5_col4\" class=\"data row5 col4\" >-0.063328</td>\n",
       "    </tr>\n",
       "    <tr>\n",
       "      <th id=\"T_59202_level0_row6\" class=\"row_heading level0 row6\" >6</th>\n",
       "      <td id=\"T_59202_row6_col0\" class=\"data row6 col0\" >7.000000</td>\n",
       "      <td id=\"T_59202_row6_col1\" class=\"data row6 col1\" >0.121668</td>\n",
       "      <td id=\"T_59202_row6_col2\" class=\"data row6 col2\" >1.207603</td>\n",
       "      <td id=\"T_59202_row6_col3\" class=\"data row6 col3\" >-0.002040</td>\n",
       "      <td id=\"T_59202_row6_col4\" class=\"data row6 col4\" >1.627796</td>\n",
       "    </tr>\n",
       "    <tr>\n",
       "      <th id=\"T_59202_level0_row7\" class=\"row_heading level0 row7\" >7</th>\n",
       "      <td id=\"T_59202_row7_col0\" class=\"data row7 col0\" >8.000000</td>\n",
       "      <td id=\"T_59202_row7_col1\" class=\"data row7 col1\" >0.354493</td>\n",
       "      <td id=\"T_59202_row7_col2\" class=\"data row7 col2\" >1.037528</td>\n",
       "      <td id=\"T_59202_row7_col3\" class=\"data row7 col3\" >-0.385684</td>\n",
       "      <td id=\"T_59202_row7_col4\" class=\"data row7 col4\" >0.519818</td>\n",
       "    </tr>\n",
       "    <tr>\n",
       "      <th id=\"T_59202_level0_row8\" class=\"row_heading level0 row8\" >8</th>\n",
       "      <td id=\"T_59202_row8_col0\" class=\"data row8 col0\" >9.000000</td>\n",
       "      <td id=\"T_59202_row8_col1\" class=\"data row8 col1\" >1.686583</td>\n",
       "      <td id=\"T_59202_row8_col2\" class=\"data row8 col2\" >-1.325963</td>\n",
       "      <td id=\"T_59202_row8_col3\" class=\"data row8 col3\" >1.428984</td>\n",
       "      <td id=\"T_59202_row8_col4\" class=\"data row8 col4\" >-2.089354</td>\n",
       "    </tr>\n",
       "    <tr>\n",
       "      <th id=\"T_59202_level0_row9\" class=\"row_heading level0 row9\" >9</th>\n",
       "      <td id=\"T_59202_row9_col0\" class=\"data row9 col0\" >10.000000</td>\n",
       "      <td id=\"T_59202_row9_col1\" class=\"data row9 col1\" >-0.129820</td>\n",
       "      <td id=\"T_59202_row9_col2\" class=\"data row9 col2\" >0.631523</td>\n",
       "      <td id=\"T_59202_row9_col3\" class=\"data row9 col3\" >-0.586538</td>\n",
       "      <td id=\"T_59202_row9_col4\" class=\"data row9 col4\" >0.290720</td>\n",
       "    </tr>\n",
       "  </tbody>\n",
       "</table>\n"
      ],
      "text/plain": [
       "<pandas.io.formats.style.Styler at 0x7f909c518d30>"
      ]
     },
     "execution_count": 78,
     "metadata": {},
     "output_type": "execute_result"
    }
   ],
   "source": [
    "##### highlighting a dataframe\n",
    "import numpy as np\n",
    "import pandas as pd\n",
    "\n",
    "np.random.seed(24)\n",
    "df = pd.DataFrame({'A': np.linspace(1, 10, 10)})\n",
    "df = pd.concat([df, pd.DataFrame(np.random.randn(10, 4), columns=list('BCDE'))],\n",
    "               axis=1)\n",
    "df.iloc[3, 3] = np.nan\n",
    "df.iloc[0, 2] = np.nan\n",
    "\n",
    "def color_negative_red(val):\n",
    "    \"\"\"\n",
    "    Takes a scalar and returns a string with\n",
    "    the css property `'color: red'` for negative\n",
    "    strings, black otherwise.\n",
    "    \"\"\"\n",
    "    color = 'red' if val < 0 else 'black'\n",
    "    return 'color: %s' % color\n",
    "\n",
    "def highlight_max(s):\n",
    "    '''\n",
    "    highlight the maximum in a Series yellow.\n",
    "    '''\n",
    "    is_max = s == s.max()\n",
    "    return ['background-color: yellow' if v else '' for v in is_max]\n",
    "\n",
    "df.style.\\\n",
    "    applymap(color_negative_red).\\\n",
    "    apply(highlight_max).\\\n",
    "    set_table_attributes('style=\"font-size: 10px\"')"
   ]
  },
  {
   "cell_type": "code",
   "execution_count": null,
   "id": "73b288dd",
   "metadata": {},
   "outputs": [],
   "source": []
  }
 ],
 "metadata": {
  "kernelspec": {
   "display_name": "Python 3 (ipykernel)",
   "language": "python",
   "name": "python3"
  },
  "language_info": {
   "codemirror_mode": {
    "name": "ipython",
    "version": 3
   },
   "file_extension": ".py",
   "mimetype": "text/x-python",
   "name": "python",
   "nbconvert_exporter": "python",
   "pygments_lexer": "ipython3",
   "version": "3.10.9"
  }
 },
 "nbformat": 4,
 "nbformat_minor": 5
}
