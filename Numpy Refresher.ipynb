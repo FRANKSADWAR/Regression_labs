{
 "cells": [
  {
   "cell_type": "markdown",
   "id": "35e4db37",
   "metadata": {},
   "source": [
    "# This nitebook is a refresher of Numpy functions in Linear Algebra and Matrices"
   ]
  },
  {
   "cell_type": "code",
   "execution_count": 1,
   "id": "ced4433f",
   "metadata": {},
   "outputs": [],
   "source": [
    "import numpy as np\n",
    "import time"
   ]
  },
  {
   "cell_type": "code",
   "execution_count": null,
   "id": "a425cfd6",
   "metadata": {},
   "outputs": [],
   "source": [
    "## Creation of vectors in Numpy\n",
    "\n",
    "a = np.zeros(4)\n",
    "print(f\"\")"
   ]
  },
  {
   "cell_type": "code",
   "execution_count": 6,
   "id": "f2bb27e2",
   "metadata": {},
   "outputs": [
    {
     "data": {
      "text/plain": [
       "array([[0., 0., 0., 0., 0., 0., 0., 0.],\n",
       "       [0., 0., 0., 0., 0., 0., 0., 0.],\n",
       "       [0., 0., 0., 0., 0., 0., 0., 0.],\n",
       "       [0., 0., 0., 0., 0., 0., 0., 0.]])"
      ]
     },
     "execution_count": 6,
     "metadata": {},
     "output_type": "execute_result"
    }
   ],
   "source": [
    "b = np.zeros((4,8)) ## accepts shape as input argument\n",
    "b"
   ]
  },
  {
   "cell_type": "code",
   "execution_count": 14,
   "id": "fc12d873",
   "metadata": {},
   "outputs": [
    {
     "data": {
      "text/plain": [
       "array([[0.93613431, 0.98584005],\n",
       "       [0.10121773, 0.52084557],\n",
       "       [0.07788069, 0.45272159],\n",
       "       [0.72586895, 0.55099632]])"
      ]
     },
     "execution_count": 14,
     "metadata": {},
     "output_type": "execute_result"
    }
   ],
   "source": [
    "c = np.random.random_sample((4,2)) ## accepts shape as input arguments\n",
    "c"
   ]
  },
  {
   "cell_type": "code",
   "execution_count": 23,
   "id": "282fe4f8",
   "metadata": {},
   "outputs": [
    {
     "name": "stdout",
     "output_type": "stream",
     "text": [
      "d :[0 2 4 6 8]\n",
      "e: [0.63167768 0.69034065 0.41583276 0.13578824]\n"
     ]
    }
   ],
   "source": [
    "## Some vector/data creation routines do not accept shape as input values\n",
    "d = np.arange(0,10,2)\n",
    "print(f\"d :{d}\")\n",
    "\n",
    "e = np.random.rand(4)\n",
    "print(f\"e: {e}\")"
   ]
  },
  {
   "cell_type": "code",
   "execution_count": 25,
   "id": "d46cde49",
   "metadata": {},
   "outputs": [
    {
     "name": "stdout",
     "output_type": "stream",
     "text": [
      " data type: float64, shape: (4,)\n",
      "data type: int64, shape: (4,)\n"
     ]
    }
   ],
   "source": [
    "## Values in an array can also be specified manually\n",
    "f = np.array([1.,2.,3.,7.]); print(f\" data type: {f.dtype}, shape: {f.shape}\")\n",
    "g = np.array([1,2,3,7]); print(f\"data type: {g.dtype}, shape: {g.shape}\")"
   ]
  },
  {
   "cell_type": "markdown",
   "id": "511a9648",
   "metadata": {},
   "source": [
    "### Operations On Vectors"
   ]
  },
  {
   "cell_type": "markdown",
   "id": "d1c1af49",
   "metadata": {},
   "source": [
    "1. Indexing: means referring to an element of an array by its position within the array\n",
    "    \n",
    "2. Slicing: means getting a subset of elements from an array based on their indices    "
   ]
  },
  {
   "cell_type": "code",
   "execution_count": 29,
   "id": "ba8d2ee4",
   "metadata": {},
   "outputs": [
    {
     "data": {
      "text/plain": [
       "(0, 9)"
      ]
     },
     "execution_count": 29,
     "metadata": {},
     "output_type": "execute_result"
    }
   ],
   "source": [
    "a = np.arange(10)\n",
    "a[0], a[-1]"
   ]
  },
  {
   "cell_type": "markdown",
   "id": "85d5ed3b",
   "metadata": {},
   "source": [
    "Indexes must be within range of the vector"
   ]
  },
  {
   "cell_type": "code",
   "execution_count": 30,
   "id": "597c0a25",
   "metadata": {},
   "outputs": [
    {
     "name": "stdout",
     "output_type": "stream",
     "text": [
      "Index out of bounds\n",
      "index 10 is out of bounds for axis 0 with size 10\n"
     ]
    }
   ],
   "source": [
    "try: \n",
    "    c= a[10]\n",
    "except Exception as e:\n",
    "    print(\"Index out of bounds\")\n",
    "    print(e)"
   ]
  },
  {
   "cell_type": "code",
   "execution_count": 32,
   "id": "597f5267",
   "metadata": {},
   "outputs": [
    {
     "data": {
      "text/plain": [
       "array([ 0,  5, 10, 15, 20, 25, 30, 35, 40, 45])"
      ]
     },
     "execution_count": 32,
     "metadata": {},
     "output_type": "execute_result"
    }
   ],
   "source": [
    "a * 5"
   ]
  },
  {
   "cell_type": "markdown",
   "id": "5ae93532",
   "metadata": {},
   "source": [
    "### Vector Operations"
   ]
  },
  {
   "cell_type": "markdown",
   "id": "10ce776a",
   "metadata": {},
   "source": [
    "Vector operations such as dot product, require the dimenions of the two vectors to  be the same."
   ]
  },
  {
   "cell_type": "code",
   "execution_count": 37,
   "id": "8e06b458",
   "metadata": {},
   "outputs": [],
   "source": [
    "def my_dot(a, b):\n",
    "    x = 0\n",
    "    for i in range(a.shape[0]):\n",
    "        x = x + a[i] + b[i]\n",
    "    return x    "
   ]
  },
  {
   "cell_type": "code",
   "execution_count": 38,
   "id": "202f9ef4",
   "metadata": {},
   "outputs": [
    {
     "data": {
      "text/plain": [
       "24"
      ]
     },
     "execution_count": 38,
     "metadata": {},
     "output_type": "execute_result"
    }
   ],
   "source": [
    "a = np.array([1,2,3,4])\n",
    "b = np.array([2,3,4,5])\n",
    "my_dot(a,b)"
   ]
  },
  {
   "cell_type": "markdown",
   "id": "f2578f55",
   "metadata": {},
   "source": [
    "The dot products returns a scalar"
   ]
  },
  {
   "cell_type": "code",
   "execution_count": 39,
   "id": "2d2a7f59",
   "metadata": {},
   "outputs": [
    {
     "data": {
      "text/plain": [
       "40"
      ]
     },
     "execution_count": 39,
     "metadata": {},
     "output_type": "execute_result"
    }
   ],
   "source": [
    "np.dot(a,b)"
   ]
  },
  {
   "cell_type": "code",
   "execution_count": null,
   "id": "7d8ae71f",
   "metadata": {},
   "outputs": [],
   "source": []
  },
  {
   "cell_type": "code",
   "execution_count": null,
   "id": "36c9b97b",
   "metadata": {},
   "outputs": [],
   "source": []
  },
  {
   "cell_type": "code",
   "execution_count": null,
   "id": "2cff2764",
   "metadata": {},
   "outputs": [],
   "source": []
  },
  {
   "cell_type": "code",
   "execution_count": null,
   "id": "d4e6d3a6",
   "metadata": {},
   "outputs": [],
   "source": []
  },
  {
   "cell_type": "code",
   "execution_count": null,
   "id": "f61f41ae",
   "metadata": {},
   "outputs": [],
   "source": []
  },
  {
   "cell_type": "code",
   "execution_count": null,
   "id": "ef201b5d",
   "metadata": {},
   "outputs": [],
   "source": []
  }
 ],
 "metadata": {
  "kernelspec": {
   "display_name": "Python 3 (ipykernel)",
   "language": "python",
   "name": "python3"
  },
  "language_info": {
   "codemirror_mode": {
    "name": "ipython",
    "version": 3
   },
   "file_extension": ".py",
   "mimetype": "text/x-python",
   "name": "python",
   "nbconvert_exporter": "python",
   "pygments_lexer": "ipython3",
   "version": "3.10.9"
  }
 },
 "nbformat": 4,
 "nbformat_minor": 5
}
