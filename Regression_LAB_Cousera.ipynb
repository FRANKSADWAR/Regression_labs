{
 "cells": [
  {
   "cell_type": "markdown",
   "id": "768ea0e4",
   "metadata": {},
   "source": [
    "# Coursera regression models"
   ]
  },
  {
   "cell_type": "markdown",
   "id": "41f3ac68",
   "metadata": {},
   "source": [
    "In this notebook I will start with implementing a linear univariate regrsssion model, $f_{w,b}$"
   ]
  },
  {
   "cell_type": "markdown",
   "id": "a11bef4e",
   "metadata": {},
   "source": [
    "### Notations"
   ]
  },
  {
   "cell_type": "markdown",
   "id": "4a15ccfe",
   "metadata": {},
   "source": [
    "$a$  scalar\n",
    "\n",
    "$x^{(i)}$, $y^{(i)}$ is the $i_{th}$ Training Example\n",
    "\n",
    "$m$   Number of training examples\n",
    "\n",
    "$b$   parameter: bias\n",
    "    \n",
    "$w$   parameter: weight\n",
    "    \n",
    "$f_{w,b}(x^{(i)})$ Is the result of the model evaluation at $x^{(i)}$ parametized by $w,b$ : $f_{w,b}(x^{(i)}) = wx^{(i)} + b$\n"
   ]
  },
  {
   "cell_type": "code",
   "execution_count": 40,
   "id": "3a80f657",
   "metadata": {},
   "outputs": [],
   "source": [
    "import numpy as np\n",
    "import matplotlib.pyplot as plt\n",
    "import math\n",
    "#plt.style.use('./deeplearning.mplstyle')"
   ]
  },
  {
   "cell_type": "markdown",
   "id": "e0ea3c08",
   "metadata": {},
   "source": [
    "This example will use a simple regression model using two data points: "
   ]
  },
  {
   "cell_type": "code",
   "execution_count": 17,
   "id": "2341c13d",
   "metadata": {},
   "outputs": [
    {
     "name": "stdout",
     "output_type": "stream",
     "text": [
      "x train = [1. 2.]\n",
      "y train = [300. 500.]\n"
     ]
    }
   ],
   "source": [
    "x_train = np.array([1.0, 2.0])\n",
    "y_train = np.array([300.0, 500.0])\n",
    "print(f\"x train = {x_train}\")\n",
    "print(f\"y train = {y_train}\")"
   ]
  },
  {
   "cell_type": "markdown",
   "id": "aecc9cd0",
   "metadata": {},
   "source": [
    "Number of training examples/features is denoted by $m$ x_train.shape[0] returns the number of training examples"
   ]
  },
  {
   "cell_type": "code",
   "execution_count": 18,
   "id": "7b951dc1",
   "metadata": {},
   "outputs": [
    {
     "name": "stdout",
     "output_type": "stream",
     "text": [
      "Number of training examples: 2\n"
     ]
    }
   ],
   "source": [
    "print(f\"Number of training examples: {x_train.shape[0]}\")"
   ]
  },
  {
   "cell_type": "markdown",
   "id": "327a4830",
   "metadata": {},
   "source": [
    "We use ($x^{(i)}$, $y^{(i)}$) to denote the $i^{th}$ training example. For instance: "
   ]
  },
  {
   "cell_type": "code",
   "execution_count": 19,
   "id": "3958c2c8",
   "metadata": {},
   "outputs": [
    {
     "name": "stdout",
     "output_type": "stream",
     "text": [
      "(x^(0), y^(0)) = (1.0,300.0)\n"
     ]
    }
   ],
   "source": [
    "i = 0\n",
    "x_i = x_train[i]\n",
    "y_i = y_train[i]\n",
    "print(f\"(x^({i}), y^({i})) = ({x_i},{y_i})\")"
   ]
  },
  {
   "cell_type": "code",
   "execution_count": 20,
   "id": "592c56a7",
   "metadata": {},
   "outputs": [
    {
     "data": {
      "text/plain": [
       "Text(0.5, 0, 'House sizes in (sqr feet)')"
      ]
     },
     "execution_count": 20,
     "metadata": {},
     "output_type": "execute_result"
    },
    {
     "data": {
      "image/png": "[encoded data removed]",
      "text/plain": [
       "<Figure size 640x480 with 1 Axes>"
      ]
     },
     "metadata": {},
     "output_type": "display_data"
    }
   ],
   "source": [
    "plt.scatter(x_train, y_train,marker='x',c='r')\n",
    "plt.title(\"Housing prices\")\n",
    "plt.ylabel(\"House prices in (1000s) of dollars\")\n",
    "plt.xlabel(\"House sizes in (sqr feet)\")"
   ]
  },
  {
   "cell_type": "markdown",
   "id": "62e5db2d",
   "metadata": {},
   "source": [
    "**w** and **b** are weights and bias: lets's try to see their effect on a regression model"
   ]
  },
  {
   "cell_type": "code",
   "execution_count": 21,
   "id": "41c02f49",
   "metadata": {},
   "outputs": [],
   "source": [
    "w = 200\n",
    "b = 100"
   ]
  },
  {
   "cell_type": "code",
   "execution_count": 22,
   "id": "c1468e13",
   "metadata": {},
   "outputs": [],
   "source": [
    "def compute_model_output(x, w, b):\n",
    "    \"\"\"\n",
    "    Computes the prediction of a linear model\n",
    "    Args:\n",
    "         x (ndarray(m,)): Data, m examples\n",
    "         w, b (scalar)  : model parameters\n",
    "         \n",
    "     Returns\n",
    "         f_wb (ndarray(m,)): model prediction\n",
    "    \n",
    "    \"\"\"\n",
    "    m = x.shape[0]\n",
    "    f_wb = np.zeros(m)\n",
    "    for i in range(m):\n",
    "        f_wb[i] = w * x[i] + b\n",
    "        \n",
    "    return f_wb    \n",
    "    "
   ]
  },
  {
   "cell_type": "code",
   "execution_count": 23,
   "id": "29aaa584",
   "metadata": {},
   "outputs": [],
   "source": [
    "tmp_f_wb = compute_model_output(x_train, w, b)"
   ]
  },
  {
   "cell_type": "code",
   "execution_count": 24,
   "id": "ed345ca8",
   "metadata": {},
   "outputs": [
    {
     "data": {
      "text/plain": [
       "array([300., 500.])"
      ]
     },
     "execution_count": 24,
     "metadata": {},
     "output_type": "execute_result"
    }
   ],
   "source": [
    "tmp_f_wb"
   ]
  },
  {
   "cell_type": "code",
   "execution_count": 25,
   "id": "e0875640",
   "metadata": {},
   "outputs": [
    {
     "data": {
      "image/png": "[encoded data removed]",
      "text/plain": [
       "<Figure size 640x480 with 1 Axes>"
      ]
     },
     "metadata": {},
     "output_type": "display_data"
    }
   ],
   "source": [
    "plt.plot(x_train, tmp_f_wb,c='b',label='Our prediction')\n",
    "plt.scatter(x_train, y_train, marker = 'x',c='r',label='Actual values')\n",
    "plt.plot(x_train, y_train,c='g')\n",
    "plt.title(\"Housing prices\")\n",
    "plt.ylabel(\"Price in (1000s of dollars)\")\n",
    "plt.xlabel(\"Size (1000 sqft)\")\n",
    "plt.legend()\n",
    "plt.show()"
   ]
  },
  {
   "cell_type": "code",
   "execution_count": 26,
   "id": "acd4afa5",
   "metadata": {
    "scrolled": true
   },
   "outputs": [
    {
     "name": "stdout",
     "output_type": "stream",
     "text": [
      "340 thousand dollars\n"
     ]
    }
   ],
   "source": [
    "w = 200\n",
    "b = 100\n",
    "x_i = 1.2\n",
    "cost_1200_sqft = w * x_i + b\n",
    "print(f\"{cost_1200_sqft:.0f} thousand dollars\")"
   ]
  },
  {
   "cell_type": "markdown",
   "id": "23e39ce3",
   "metadata": {},
   "source": [
    "The function is represented as: \n",
    "    $f(x)$ = $wx$ + $b$"
   ]
  },
  {
   "cell_type": "markdown",
   "id": "9822f4d6",
   "metadata": {},
   "source": [
    "Linear regression builds a model which establishes a relationship between features and targets. \n",
    "- In the example above, the feature was house size and the target was house price\n",
    "- Once a model's parameters $w$ and $b$ have been determined, the model can be used to make predictions on novel data"
   ]
  },
  {
   "cell_type": "markdown",
   "id": "36f67a6c",
   "metadata": {},
   "source": [
    "### The cost function"
   ]
  },
  {
   "cell_type": "markdown",
   "id": "225ba0b0",
   "metadata": {},
   "source": [
    "The cost function is used to compute the squared error between the predicted values and the true values in a regression model.\n",
    "\n",
    "The cost function $J(w,b)$ must be minimised as much as possible in order to get a good fit of the regession model."
   ]
  },
  {
   "cell_type": "markdown",
   "id": "38d95587",
   "metadata": {},
   "source": [
    "Remember that $w$ and $b$ are the models parameters, where $w$ is the slope/gradient and $b$ is the y-intercept, \n",
    "hence adjusting the $w$ and the $b$ leads to a different value of the predicted value $\\hat{y}$.\n",
    "\n",
    "The cost function takes the prediction $\\hat{y}$ and compares it to the target $y$ i.e $\\hat{y}$ - $y$, to get the error."
   ]
  },
  {
   "cell_type": "markdown",
   "id": "1244b54b",
   "metadata": {},
   "source": [
    "The cost function can be written as: \n",
    "    $J_{(w,b)}$ = $\\frac{1}{2m} \\sum \\limits _{i=1} ^ m (\\hat{y}^{(i)} - y^{(i)})^2$\n",
    "    \n",
    "This is called the squared error function, which can be re-written as: "
   ]
  },
  {
   "cell_type": "markdown",
   "id": "dbf8c2a3",
   "metadata": {},
   "source": [
    "$$J(w,b) = \\frac{1}{2m} \\sum\\limits_{i = 1} ^ m (f_{w,b}(x^{(i)}) - y^{(i)})^2 \\tag{1}$$"
   ]
  },
  {
   "cell_type": "markdown",
   "id": "93923208",
   "metadata": {},
   "source": [
    "More mathematical representations:"
   ]
  },
  {
   "cell_type": "markdown",
   "id": "10fedcba",
   "metadata": {},
   "source": [
    "$$\\int_0^\\infty \\frac{x^3}{e^x-1}\\,dx = \\frac{\\pi^4}{15}$$"
   ]
  },
  {
   "cell_type": "markdown",
   "id": "ef6183f8",
   "metadata": {},
   "source": [
    "### Gradient Descent"
   ]
  },
  {
   "cell_type": "markdown",
   "id": "00961f15",
   "metadata": {},
   "source": [
    "Gradient descent is an algorithm that is used to compute the $w$ and $b$ parameters of the cost function, and\n",
    "can be applied in a wide-array of machine learning models."
   ]
  },
  {
   "cell_type": "markdown",
   "id": "96060fca",
   "metadata": {},
   "source": [
    "The gradient descent is used to compute the optimal values of $w$ and $b$ that minimizes the cost function, minimizing the\n",
    "cost function leads to what is known as local minima.\n",
    "\n",
    "In gradient descent, the parameter $\\tilde{w}$ is computed as :\n",
    "    $ \\tilde{w}$ = $w - \\alpha \\frac{d}{dw} (J_{w,b})$\n",
    "    \n",
    "  - Where $\\frac{d}{dw} (J_{w,b})$ is known as the derivative\n",
    "  - $\\alpha$ is known as the learning rate\n",
    "    \n",
    "If the learning rate $\\alpha$ is small then the learning rate/descent happens slowly or with small steps\n",
    "\n",
    "If the learning rate $\\alpha$ is large, then the learning rate/descent happens faster but may lead to a divergence rather than convergence towards the minima"
   ]
  },
  {
   "cell_type": "markdown",
   "id": "775de5fa",
   "metadata": {},
   "source": [
    "The parameter $b$ is computed as :\n",
    "    $ \\tilde{b}$ = $b - \\alpha \\frac{d}{db} (J_{w,b})$\n",
    "    \n",
    "The parameters $b$ and $w$  are updated simultaneously.\n",
    "\n",
    "The learning rate $\\alpha$ is always a positive number, so if we have a positive derivative, then the parameter $w$ will be decreasing, and vice-versa.\n",
    "\n",
    "The derivative term computes the gradient/slope at the point where $w$ is a tangent to the cost function curve, which leads to getting closer and closer to the local/global minima."
   ]
  },
  {
   "cell_type": "markdown",
   "id": "542f8232",
   "metadata": {},
   "source": [
    "#### The learning rate $\\alpha$"
   ]
  },
  {
   "cell_type": "markdown",
   "id": "54741a1b",
   "metadata": {},
   "source": [
    "The choice of the learning rate $\\alpha$ is very important in gradient descent.\n",
    "\n",
    "If the learning rate is too small, then the descent would be too slow. If is is too large, the descent overshoots and the \n",
    "algorithm may never reach minimum/convergence.\n",
    "\n",
    "A gradient descent that uses the entire training dataset to get to the global minima is known as batch gradient descent.\n",
    "\n",
    "A gradient descent that uses a subset of the dataset is known as stochastic gradient descent."
   ]
  },
  {
   "cell_type": "markdown",
   "id": "36141fb8",
   "metadata": {},
   "source": [
    "From the equations above:\n",
    "    \n",
    "$\\tilde{w}$ = $w - \\alpha \\frac{d}{dw} (J_{w,b})$\n",
    "\n",
    "Hence: $\\alpha \\frac{d}{dw} (J_{w,b})$ = $\\frac{1}{m} \\sum^{m} \\limits_{i=1}(f_{w,b}(x^{(i)}) - y^{(i)})x^{(i)}$"
   ]
  },
  {
   "cell_type": "markdown",
   "id": "3170abe7",
   "metadata": {},
   "source": [
    "And \n",
    "\n",
    "$\\tilde{b}$ = $b - \\alpha \\frac{d}{db} (J_{w,b})$\n",
    "\n",
    "Hence: $\\alpha \\frac{d}{db} (J_{w,b})$ = $\\frac{1}{m} \\sum^{m} \\limits_{i=1}(f_{w,b}(x^{(i)}) - y^{(i)})$"
   ]
  },
  {
   "cell_type": "markdown",
   "id": "f256a60b",
   "metadata": {},
   "source": [
    "Remember, the derivatives parts of computing the $\\tilde{w}$ and $\\tilde{b}$ is actually a partial derivative in calculus terms i.e\n",
    "\n",
    "$\\frac{d}{dw} (J_{w,b})$ = $\\frac{\\partial J(w,b)}{\\partial w}$\n",
    "\n",
    "And: \n",
    "    \n",
    "$\\frac{d}{db} (J_{w,b})$ = $\\frac{\\partial J(w,b)}{\\partial b}$"
   ]
  },
  {
   "cell_type": "markdown",
   "id": "d02b21f5",
   "metadata": {},
   "source": [
    "The derivative terms above, compute the gradient/slope of the cost with respect to $w$ and $b$"
   ]
  },
  {
   "cell_type": "markdown",
   "id": "b435b2e2",
   "metadata": {},
   "source": [
    "These are the steps I us to compute the gradient descent: \n",
    "- Compute the gradients at $w$ and $b$ by computing their partial derivatives\n",
    "- Initialize the parameters $w$ and $b$\n",
    "- Compute the gradient descent and update $w$ and $b$ simultaneously\n"
   ]
  },
  {
   "cell_type": "code",
   "execution_count": 36,
   "id": "534a29ae",
   "metadata": {},
   "outputs": [],
   "source": [
    "def compute_cost(x,y,w,b):\n",
    "    m = x.shape[0]\n",
    "    cost = 0\n",
    "    for i in range(m):\n",
    "        f_wb = w * x[i] + b\n",
    "        cost = cost + (f_wb - y[i]) ** 2\n",
    "    total_cost = 1 / (2 * m) * cost\n",
    "    return total_cost"
   ]
  },
  {
   "cell_type": "markdown",
   "id": "fa62dfd2",
   "metadata": {},
   "source": [
    "##### Computing the gradients (by computing the derivaties of $w$ and $b$)"
   ]
  },
  {
   "cell_type": "code",
   "execution_count": 37,
   "id": "b46248e6",
   "metadata": {},
   "outputs": [],
   "source": [
    "def compute_gradient(x,y, w, b):\n",
    "    \"\"\"\n",
    "    Computes the gradient of w and b \n",
    "    Args:\n",
    "        x (ndarray (m,)): Data, m samples\n",
    "        y (ndarray (m, )): Target values\n",
    "        w, b (scalar): model parameters\n",
    "    Returns:\n",
    "        dj_dw (scalar): The gradient of the cost w.r.t w\n",
    "        dj_db (scalar): The gradient of the cost w.r.t b\n",
    "        \n",
    "    \"\"\"\n",
    "    \n",
    "    m = x.shape[0].\n",
    "    dj_dw = 0\n",
    "    dj_db = 0\n",
    "    for i in range(m):\n",
    "        f_wb = w * x[i] + b\n",
    "        dj_dw_i = (f_wb - y[i]) * x[i]\n",
    "        dj_db_i = (f_wb -y[i])\n",
    "        dj_db += dj_db_i\n",
    "        dj_dw += dj_dw_i\n",
    "    dj_dw = dj_dw / m\n",
    "    dj_db = dj_db / m\n",
    "    \n",
    "    return dj_dw, dj_db"
   ]
  },
  {
   "cell_type": "markdown",
   "id": "1dccc0ce",
   "metadata": {},
   "source": [
    "##### Computing the gradient descent\n"
   ]
  },
  {
   "cell_type": "code",
   "execution_count": 38,
   "id": "0a6957b1",
   "metadata": {},
   "outputs": [],
   "source": [
    "def gradient_descent(x, y, w_in, b_in, alpha, num_iters,cost_function, gradient_function):\n",
    "    \"\"\"\n",
    "    Performs gradient descent to fit w,b. Updates w,b by taking num_iters\n",
    "    gradient steps with learning rate alpha\n",
    "    \n",
    "    Args: \n",
    "        x (ndarray (m, )): Data, m examples\n",
    "        y (ndarray (m, )): Target values\n",
    "        w_in, b_in: initial values of the model parameters\n",
    "        alpha (float): learning rate\n",
    "        num_iters: number of iterations to run the gradient descent\n",
    "        cost_function: function to call to return the cost\n",
    "        gradient_function: function to call to return the gradient \n",
    "        \n",
    "    Returns: \n",
    "    w (scalar): Updated value of parameter after running gradient descent\n",
    "    b (scalar): Updated value of parameter after running gradient descent\n",
    "    J_history (List): History of cost values\n",
    "    p_history (List): History of parameters w and b\n",
    "    \"\"\"\n",
    "    \n",
    "    w = w_in\n",
    "    b = b_in\n",
    "    J_history = []\n",
    "    p_history = []\n",
    "    \n",
    "    for i in range(num_iters):\n",
    "        # Calculate the gradient and update the paramets using gradient descent\n",
    "        dj_dw, dj_db = gradient_function(x, y, w, b)\n",
    "        \n",
    "        ## Update the parameters simultaneously\n",
    "        b = b - alpha * dj_db\n",
    "        w = w - alpha * dj_dw\n",
    "        \n",
    "        ## Save the cost J at each iteration\n",
    "        if i < 10000:\n",
    "            J_history.append(cost_function(x,y,w,b))\n",
    "            p_history.append([w,b])\n",
    "            \n",
    "        ## print cost every intervals 10 times or more if i < 10\n",
    "        if i%math.ceil(num_iters/10) == 0:\n",
    "            print(f\"Iteration {i:4}: Cost {J_history[-1]:0.2e} \",\n",
    "                  f\"dj_dw: {dj_dw: 0.3e}, dj_db: {dj_db: 0.3e} \",\n",
    "                  f\"w: {w: 0.3e}, b:{b: 0.5e}\")\n",
    "            \n",
    "    return w, b, J_history, p_history   ## return values for graphing    \n",
    "            \n",
    "    "
   ]
  },
  {
   "cell_type": "code",
   "execution_count": 42,
   "id": "6f07200f",
   "metadata": {},
   "outputs": [
    {
     "name": "stdout",
     "output_type": "stream",
     "text": [
      "Iteration    0: Cost 7.93e+04  dj_dw: -6.500e+02, dj_db: -4.000e+02  w:  6.500e+00, b: 4.00000e+00\n",
      "Iteration 1000: Cost 3.41e+00  dj_dw: -3.712e-01, dj_db:  6.007e-01  w:  1.949e+02, b: 1.08228e+02\n",
      "Iteration 2000: Cost 7.93e-01  dj_dw: -1.789e-01, dj_db:  2.895e-01  w:  1.975e+02, b: 1.03966e+02\n",
      "Iteration 3000: Cost 1.84e-01  dj_dw: -8.625e-02, dj_db:  1.396e-01  w:  1.988e+02, b: 1.01912e+02\n",
      "Iteration 4000: Cost 4.28e-02  dj_dw: -4.158e-02, dj_db:  6.727e-02  w:  1.994e+02, b: 1.00922e+02\n",
      "Iteration 5000: Cost 9.95e-03  dj_dw: -2.004e-02, dj_db:  3.243e-02  w:  1.997e+02, b: 1.00444e+02\n",
      "Iteration 6000: Cost 2.31e-03  dj_dw: -9.660e-03, dj_db:  1.563e-02  w:  1.999e+02, b: 1.00214e+02\n",
      "Iteration 7000: Cost 5.37e-04  dj_dw: -4.657e-03, dj_db:  7.535e-03  w:  1.999e+02, b: 1.00103e+02\n",
      "Iteration 8000: Cost 1.25e-04  dj_dw: -2.245e-03, dj_db:  3.632e-03  w:  2.000e+02, b: 1.00050e+02\n",
      "Iteration 9000: Cost 2.90e-05  dj_dw: -1.082e-03, dj_db:  1.751e-03  w:  2.000e+02, b: 1.00024e+02\n",
      "(w,b) found by gradient descent : (199.9929,100.0116)\n"
     ]
    }
   ],
   "source": [
    "w_int = 0\n",
    "b_int = 0\n",
    "iterations = 10000\n",
    "tmp_alpha = 1.0e-2\n",
    "\n",
    "## run the gradient descent\n",
    "\n",
    "w_final, b_final, J_hist, p_hist = gradient_descent(x_train, y_train, w_int, b_int,tmp_alpha, iterations, compute_cost, compute_gradient)\n",
    "\n",
    "\n",
    "print(f\"(w,b) found by gradient descent : ({w_final:8.4f},{b_final:8.4f})\")\n"
   ]
  },
  {
   "cell_type": "markdown",
   "id": "95d0b8d7",
   "metadata": {},
   "source": [
    "From the output above, we can see that the cost reduces with more and more iterations"
   ]
  },
  {
   "cell_type": "markdown",
   "id": "5425425f",
   "metadata": {},
   "source": [
    "#### Comparing cost versus iterations in Gradient Descent"
   ]
  },
  {
   "cell_type": "code",
   "execution_count": 44,
   "id": "1f31f58e",
   "metadata": {},
   "outputs": [
    {
     "data": {
      "text/plain": [
       "Text(0.5, 0, 'Iteration Step')"
      ]
     },
     "execution_count": 44,
     "metadata": {},
     "output_type": "execute_result"
    },
    {
     "data": {
      "image/png": "[encoded data removed]",
      "text/plain": [
       "<Figure size 1200x400 with 2 Axes>"
      ]
     },
     "metadata": {},
     "output_type": "display_data"
    }
   ],
   "source": [
    "fig, (ax1, ax2) = plt.subplots(1,2, constrained_layout=True, figsize=(12,4))\n",
    "ax1.plot(J_hist[:100])\n",
    "ax2.plot(1000 + np.arange(len(J_hist[1000:])), J_hist[1000:])\n",
    "ax1.set_title(\"Cost vs iteration at the start\")\n",
    "ax2.set_title(\"Cost vs iteration at the end\")\n",
    "ax1.set_ylabel(\"Cost\")\n",
    "ax2.set_ylabel(\"Cost\")\n",
    "ax1.set_xlabel(\"Iteration Step\")\n",
    "ax2.set_xlabel(\"Iteration Step\")"
   ]
  },
  {
   "cell_type": "markdown",
   "id": "26b670a0",
   "metadata": {},
   "source": [
    "### Predictions"
   ]
  },
  {
   "cell_type": "markdown",
   "id": "1576b657",
   "metadata": {},
   "source": [
    "With the optimal values of $w$ and $b$, we can now compute the predictions for the house prices"
   ]
  },
  {
   "cell_type": "code",
   "execution_count": 47,
   "id": "49eb8a7d",
   "metadata": {},
   "outputs": [
    {
     "name": "stdout",
     "output_type": "stream",
     "text": [
      "1000 sqft house predictin 300.0 Thousand dollars\n",
      "12000 sqft house predictin 340.0 Thousand dollars\n",
      "2000 sqft house predictin 500.0 Thousand dollars\n"
     ]
    }
   ],
   "source": [
    "print(f\"1000 sqft house predictin {w_final * 1.0 + b_final:0.1f} Thousand dollars\")\n",
    "print(f\"12000 sqft house predictin {w_final * 1.2 + b_final:0.1f} Thousand dollars\")\n",
    "print(f\"2000 sqft house predictin {w_final * 2.0 + b_final:0.1f} Thousand dollars\")\n",
    "\n"
   ]
  },
  {
   "cell_type": "code",
   "execution_count": null,
   "id": "5389b381",
   "metadata": {},
   "outputs": [],
   "source": []
  },
  {
   "cell_type": "code",
   "execution_count": 12,
   "id": "0cae01cc",
   "metadata": {},
   "outputs": [
    {
     "data": {
      "text/html": [
       "<style type=\"text/css\">\n",
       "#T_03436_row0_col0, #T_03436_row0_col1, #T_03436_row0_col2, #T_03436_row1_col0, #T_03436_row1_col3, #T_03436_row1_col4, #T_03436_row2_col0, #T_03436_row2_col2, #T_03436_row2_col3, #T_03436_row3_col0, #T_03436_row3_col1, #T_03436_row3_col2, #T_03436_row3_col3, #T_03436_row3_col4, #T_03436_row4_col0, #T_03436_row4_col1, #T_03436_row4_col2, #T_03436_row4_col3, #T_03436_row4_col4, #T_03436_row5_col0, #T_03436_row5_col2, #T_03436_row5_col3, #T_03436_row6_col0, #T_03436_row6_col1, #T_03436_row6_col4, #T_03436_row7_col0, #T_03436_row7_col1, #T_03436_row7_col2, #T_03436_row7_col4, #T_03436_row8_col0, #T_03436_row9_col2, #T_03436_row9_col4 {\n",
       "  color: black;\n",
       "}\n",
       "#T_03436_row0_col3, #T_03436_row0_col4, #T_03436_row1_col1, #T_03436_row1_col2, #T_03436_row2_col1, #T_03436_row5_col1, #T_03436_row5_col4, #T_03436_row6_col3, #T_03436_row7_col3, #T_03436_row8_col2, #T_03436_row8_col4, #T_03436_row9_col1, #T_03436_row9_col3 {\n",
       "  color: red;\n",
       "}\n",
       "#T_03436_row2_col4, #T_03436_row6_col2, #T_03436_row8_col1, #T_03436_row8_col3, #T_03436_row9_col0 {\n",
       "  color: black;\n",
       "  background-color: yellow;\n",
       "}\n",
       "</style>\n",
       "<table id=\"T_03436\" style=\"font-size: 10px\">\n",
       "  <thead>\n",
       "    <tr>\n",
       "      <th class=\"blank level0\" >&nbsp;</th>\n",
       "      <th id=\"T_03436_level0_col0\" class=\"col_heading level0 col0\" >A</th>\n",
       "      <th id=\"T_03436_level0_col1\" class=\"col_heading level0 col1\" >B</th>\n",
       "      <th id=\"T_03436_level0_col2\" class=\"col_heading level0 col2\" >C</th>\n",
       "      <th id=\"T_03436_level0_col3\" class=\"col_heading level0 col3\" >D</th>\n",
       "      <th id=\"T_03436_level0_col4\" class=\"col_heading level0 col4\" >E</th>\n",
       "    </tr>\n",
       "  </thead>\n",
       "  <tbody>\n",
       "    <tr>\n",
       "      <th id=\"T_03436_level0_row0\" class=\"row_heading level0 row0\" >0</th>\n",
       "      <td id=\"T_03436_row0_col0\" class=\"data row0 col0\" >1.000000</td>\n",
       "      <td id=\"T_03436_row0_col1\" class=\"data row0 col1\" >1.329212</td>\n",
       "      <td id=\"T_03436_row0_col2\" class=\"data row0 col2\" >nan</td>\n",
       "      <td id=\"T_03436_row0_col3\" class=\"data row0 col3\" >-0.316280</td>\n",
       "      <td id=\"T_03436_row0_col4\" class=\"data row0 col4\" >-0.990810</td>\n",
       "    </tr>\n",
       "    <tr>\n",
       "      <th id=\"T_03436_level0_row1\" class=\"row_heading level0 row1\" >1</th>\n",
       "      <td id=\"T_03436_row1_col0\" class=\"data row1 col0\" >2.000000</td>\n",
       "      <td id=\"T_03436_row1_col1\" class=\"data row1 col1\" >-1.070816</td>\n",
       "      <td id=\"T_03436_row1_col2\" class=\"data row1 col2\" >-1.438713</td>\n",
       "      <td id=\"T_03436_row1_col3\" class=\"data row1 col3\" >0.564417</td>\n",
       "      <td id=\"T_03436_row1_col4\" class=\"data row1 col4\" >0.295722</td>\n",
       "    </tr>\n",
       "    <tr>\n",
       "      <th id=\"T_03436_level0_row2\" class=\"row_heading level0 row2\" >2</th>\n",
       "      <td id=\"T_03436_row2_col0\" class=\"data row2 col0\" >3.000000</td>\n",
       "      <td id=\"T_03436_row2_col1\" class=\"data row2 col1\" >-1.626404</td>\n",
       "      <td id=\"T_03436_row2_col2\" class=\"data row2 col2\" >0.219565</td>\n",
       "      <td id=\"T_03436_row2_col3\" class=\"data row2 col3\" >0.678805</td>\n",
       "      <td id=\"T_03436_row2_col4\" class=\"data row2 col4\" >1.889273</td>\n",
       "    </tr>\n",
       "    <tr>\n",
       "      <th id=\"T_03436_level0_row3\" class=\"row_heading level0 row3\" >3</th>\n",
       "      <td id=\"T_03436_row3_col0\" class=\"data row3 col0\" >4.000000</td>\n",
       "      <td id=\"T_03436_row3_col1\" class=\"data row3 col1\" >0.961538</td>\n",
       "      <td id=\"T_03436_row3_col2\" class=\"data row3 col2\" >0.104011</td>\n",
       "      <td id=\"T_03436_row3_col3\" class=\"data row3 col3\" >nan</td>\n",
       "      <td id=\"T_03436_row3_col4\" class=\"data row3 col4\" >0.850229</td>\n",
       "    </tr>\n",
       "    <tr>\n",
       "      <th id=\"T_03436_level0_row4\" class=\"row_heading level0 row4\" >4</th>\n",
       "      <td id=\"T_03436_row4_col0\" class=\"data row4 col0\" >5.000000</td>\n",
       "      <td id=\"T_03436_row4_col1\" class=\"data row4 col1\" >1.453425</td>\n",
       "      <td id=\"T_03436_row4_col2\" class=\"data row4 col2\" >1.057737</td>\n",
       "      <td id=\"T_03436_row4_col3\" class=\"data row4 col3\" >0.165562</td>\n",
       "      <td id=\"T_03436_row4_col4\" class=\"data row4 col4\" >0.515018</td>\n",
       "    </tr>\n",
       "    <tr>\n",
       "      <th id=\"T_03436_level0_row5\" class=\"row_heading level0 row5\" >5</th>\n",
       "      <td id=\"T_03436_row5_col0\" class=\"data row5 col0\" >6.000000</td>\n",
       "      <td id=\"T_03436_row5_col1\" class=\"data row5 col1\" >-1.336936</td>\n",
       "      <td id=\"T_03436_row5_col2\" class=\"data row5 col2\" >0.562861</td>\n",
       "      <td id=\"T_03436_row5_col3\" class=\"data row5 col3\" >1.392855</td>\n",
       "      <td id=\"T_03436_row5_col4\" class=\"data row5 col4\" >-0.063328</td>\n",
       "    </tr>\n",
       "    <tr>\n",
       "      <th id=\"T_03436_level0_row6\" class=\"row_heading level0 row6\" >6</th>\n",
       "      <td id=\"T_03436_row6_col0\" class=\"data row6 col0\" >7.000000</td>\n",
       "      <td id=\"T_03436_row6_col1\" class=\"data row6 col1\" >0.121668</td>\n",
       "      <td id=\"T_03436_row6_col2\" class=\"data row6 col2\" >1.207603</td>\n",
       "      <td id=\"T_03436_row6_col3\" class=\"data row6 col3\" >-0.002040</td>\n",
       "      <td id=\"T_03436_row6_col4\" class=\"data row6 col4\" >1.627796</td>\n",
       "    </tr>\n",
       "    <tr>\n",
       "      <th id=\"T_03436_level0_row7\" class=\"row_heading level0 row7\" >7</th>\n",
       "      <td id=\"T_03436_row7_col0\" class=\"data row7 col0\" >8.000000</td>\n",
       "      <td id=\"T_03436_row7_col1\" class=\"data row7 col1\" >0.354493</td>\n",
       "      <td id=\"T_03436_row7_col2\" class=\"data row7 col2\" >1.037528</td>\n",
       "      <td id=\"T_03436_row7_col3\" class=\"data row7 col3\" >-0.385684</td>\n",
       "      <td id=\"T_03436_row7_col4\" class=\"data row7 col4\" >0.519818</td>\n",
       "    </tr>\n",
       "    <tr>\n",
       "      <th id=\"T_03436_level0_row8\" class=\"row_heading level0 row8\" >8</th>\n",
       "      <td id=\"T_03436_row8_col0\" class=\"data row8 col0\" >9.000000</td>\n",
       "      <td id=\"T_03436_row8_col1\" class=\"data row8 col1\" >1.686583</td>\n",
       "      <td id=\"T_03436_row8_col2\" class=\"data row8 col2\" >-1.325963</td>\n",
       "      <td id=\"T_03436_row8_col3\" class=\"data row8 col3\" >1.428984</td>\n",
       "      <td id=\"T_03436_row8_col4\" class=\"data row8 col4\" >-2.089354</td>\n",
       "    </tr>\n",
       "    <tr>\n",
       "      <th id=\"T_03436_level0_row9\" class=\"row_heading level0 row9\" >9</th>\n",
       "      <td id=\"T_03436_row9_col0\" class=\"data row9 col0\" >10.000000</td>\n",
       "      <td id=\"T_03436_row9_col1\" class=\"data row9 col1\" >-0.129820</td>\n",
       "      <td id=\"T_03436_row9_col2\" class=\"data row9 col2\" >0.631523</td>\n",
       "      <td id=\"T_03436_row9_col3\" class=\"data row9 col3\" >-0.586538</td>\n",
       "      <td id=\"T_03436_row9_col4\" class=\"data row9 col4\" >0.290720</td>\n",
       "    </tr>\n",
       "  </tbody>\n",
       "</table>\n"
      ],
      "text/plain": [
       "<pandas.io.formats.style.Styler at 0x7fd440098b80>"
      ]
     },
     "execution_count": 12,
     "metadata": {},
     "output_type": "execute_result"
    }
   ],
   "source": [
    "##### highlighting a dataframe\n",
    "import numpy as np\n",
    "import pandas as pd\n",
    "\n",
    "np.random.seed(24)\n",
    "df = pd.DataFrame({'A': np.linspace(1, 10, 10)})\n",
    "df = pd.concat([df, pd.DataFrame(np.random.randn(10, 4), columns=list('BCDE'))],\n",
    "               axis=1)\n",
    "df.iloc[3, 3] = np.nan\n",
    "df.iloc[0, 2] = np.nan\n",
    "\n",
    "def color_negative_red(val):\n",
    "    \"\"\"\n",
    "    Takes a scalar and returns a string with\n",
    "    the css property `'color: red'` for negative\n",
    "    strings, black otherwise.\n",
    "    \"\"\"\n",
    "    color = 'red' if val < 0 else 'black'\n",
    "    return 'color: %s' % color\n",
    "\n",
    "def highlight_max(s):\n",
    "    '''\n",
    "    highlight the maximum in a Series yellow.\n",
    "    '''\n",
    "    is_max = s == s.max()\n",
    "    return ['background-color: yellow' if v else '' for v in is_max]\n",
    "\n",
    "df.style.\\\n",
    "    applymap(color_negative_red).\\\n",
    "    apply(highlight_max).\\\n",
    "    set_table_attributes('style=\"font-size: 10px\"')"
   ]
  },
  {
   "cell_type": "code",
   "execution_count": null,
   "id": "73b288dd",
   "metadata": {},
   "outputs": [],
   "source": []
  },
  {
   "cell_type": "markdown",
   "id": "a3ea0dcf",
   "metadata": {},
   "source": [
    "# Implementing Gradient descent for multiple features"
   ]
  },
  {
   "cell_type": "code",
   "execution_count": 48,
   "id": "192c8722",
   "metadata": {},
   "outputs": [],
   "source": [
    "X_train = np.array([[2104, 5, 1, 45],[1416, 3, 2, 40],[852, 2, 1, 35]])\n",
    "y_train = np.array([460, 232, 178])"
   ]
  },
  {
   "cell_type": "markdown",
   "id": "fc2e1df4",
   "metadata": {},
   "source": [
    "The training features/examples are stored in a Numpy matrix X_train, where each row represents one example. \n",
    "\n",
    "When you have m training examples, and n features, then **X** is a matrix with dimensions $(m,n)$ i.e m rows and n columns"
   ]
  },
  {
   "cell_type": "markdown",
   "id": "a6d3e1be",
   "metadata": {},
   "source": [
    "$w$ in this multiple linear regression is a vector, containing n elements, in this case 4, and is a column vector represented as:\n",
    "    \n",
    "$$\\mathbf{w} = \\begin{pmatrix}\n",
    "w_0 \\\\\n",
    "w_1 \\\\\n",
    "w_2 \\\\\n",
    "\\cdots \\\\\n",
    "w_{n-1}\n",
    "\\end{pmatrix}\n",
    "$$\n",
    "\n",
    "* $b$ is a scalar parameter\n",
    "    "
   ]
  },
  {
   "cell_type": "markdown",
   "id": "3b5bac5f",
   "metadata": {},
   "source": [
    "## Model prediction with Multiple linear regression"
   ]
  },
  {
   "cell_type": "markdown",
   "id": "56ba1cd1",
   "metadata": {},
   "source": [
    "The model's prediction with multiple variables is given by: \n",
    "\n",
    "$$f_{w,b}(X) = w_0x_0 + w_1x_1 + w_2x_2 + ... + w_{n-1}x_{n-1} +b \\tag{1}$$"
   ]
  },
  {
   "cell_type": "code",
   "execution_count": 50,
   "id": "f7ef94aa",
   "metadata": {},
   "outputs": [],
   "source": [
    "def predict (x, w, b):\n",
    "    \"\"\"\n",
    "    Single prediction using linear regression\n",
    "    Args:\n",
    "        x (ndarray): Shape (n,) training examples\n",
    "        w (ndarray) : Shape (n,) model parameters\n",
    "        b: (scalar) model parameter\n",
    "    Returns: \n",
    "        p (scalar): prediction\n",
    "    \"\"\"\n",
    "    \n",
    "    p = np.dot(x, w) + b\n",
    "    return p"
   ]
  },
  {
   "cell_type": "markdown",
   "id": "b2493fd4",
   "metadata": {},
   "source": [
    "### Computing cost with multiple features"
   ]
  },
  {
   "cell_type": "code",
   "execution_count": null,
   "id": "30ea945e",
   "metadata": {},
   "outputs": [],
   "source": []
  },
  {
   "cell_type": "code",
   "execution_count": null,
   "id": "7c3857ce",
   "metadata": {},
   "outputs": [],
   "source": []
  },
  {
   "cell_type": "code",
   "execution_count": null,
   "id": "07b7ed98",
   "metadata": {},
   "outputs": [],
   "source": []
  },
  {
   "cell_type": "code",
   "execution_count": null,
   "id": "7fd4c256",
   "metadata": {},
   "outputs": [],
   "source": []
  },
  {
   "cell_type": "code",
   "execution_count": null,
   "id": "29ebe93c",
   "metadata": {},
   "outputs": [],
   "source": []
  },
  {
   "cell_type": "code",
   "execution_count": null,
   "id": "d42e37ec",
   "metadata": {},
   "outputs": [],
   "source": []
  },
  {
   "cell_type": "code",
   "execution_count": null,
   "id": "026c6557",
   "metadata": {},
   "outputs": [],
   "source": []
  },
  {
   "cell_type": "code",
   "execution_count": null,
   "id": "7ecf30b1",
   "metadata": {},
   "outputs": [],
   "source": []
  },
  {
   "cell_type": "code",
   "execution_count": null,
   "id": "8442ae59",
   "metadata": {},
   "outputs": [],
   "source": []
  },
  {
   "cell_type": "code",
   "execution_count": null,
   "id": "05455715",
   "metadata": {},
   "outputs": [],
   "source": []
  },
  {
   "cell_type": "code",
   "execution_count": null,
   "id": "9ec623a8",
   "metadata": {},
   "outputs": [],
   "source": []
  },
  {
   "cell_type": "code",
   "execution_count": null,
   "id": "0b5987ca",
   "metadata": {},
   "outputs": [],
   "source": []
  },
  {
   "cell_type": "code",
   "execution_count": null,
   "id": "d1ac00f4",
   "metadata": {},
   "outputs": [],
   "source": []
  },
  {
   "cell_type": "code",
   "execution_count": null,
   "id": "1fd8109f",
   "metadata": {},
   "outputs": [],
   "source": []
  },
  {
   "cell_type": "code",
   "execution_count": null,
   "id": "5d55f781",
   "metadata": {},
   "outputs": [],
   "source": []
  },
  {
   "cell_type": "code",
   "execution_count": null,
   "id": "a7a8d5ee",
   "metadata": {},
   "outputs": [],
   "source": []
  },
  {
   "cell_type": "code",
   "execution_count": null,
   "id": "f0c11745",
   "metadata": {},
   "outputs": [],
   "source": []
  },
  {
   "cell_type": "code",
   "execution_count": null,
   "id": "67b81059",
   "metadata": {},
   "outputs": [],
   "source": []
  },
  {
   "cell_type": "code",
   "execution_count": null,
   "id": "c6faf6f1",
   "metadata": {},
   "outputs": [],
   "source": []
  },
  {
   "cell_type": "code",
   "execution_count": null,
   "id": "d959f5f6",
   "metadata": {},
   "outputs": [],
   "source": []
  },
  {
   "cell_type": "code",
   "execution_count": null,
   "id": "37e65e3d",
   "metadata": {},
   "outputs": [],
   "source": []
  },
  {
   "cell_type": "code",
   "execution_count": null,
   "id": "334a0f67",
   "metadata": {},
   "outputs": [],
   "source": []
  },
  {
   "cell_type": "code",
   "execution_count": null,
   "id": "afdb48b0",
   "metadata": {},
   "outputs": [],
   "source": []
  },
  {
   "cell_type": "code",
   "execution_count": null,
   "id": "e7719a2e",
   "metadata": {},
   "outputs": [],
   "source": []
  },
  {
   "cell_type": "code",
   "execution_count": null,
   "id": "9d07e66a",
   "metadata": {},
   "outputs": [],
   "source": []
  },
  {
   "cell_type": "code",
   "execution_count": null,
   "id": "4ab7113d",
   "metadata": {},
   "outputs": [],
   "source": []
  },
  {
   "cell_type": "code",
   "execution_count": null,
   "id": "65fe2619",
   "metadata": {},
   "outputs": [],
   "source": []
  },
  {
   "cell_type": "code",
   "execution_count": null,
   "id": "45b99155",
   "metadata": {},
   "outputs": [],
   "source": []
  },
  {
   "cell_type": "code",
   "execution_count": null,
   "id": "a0903812",
   "metadata": {},
   "outputs": [],
   "source": []
  },
  {
   "cell_type": "code",
   "execution_count": null,
   "id": "b9f77f8c",
   "metadata": {},
   "outputs": [],
   "source": []
  },
  {
   "cell_type": "code",
   "execution_count": null,
   "id": "66d50598",
   "metadata": {},
   "outputs": [],
   "source": []
  },
  {
   "cell_type": "code",
   "execution_count": null,
   "id": "7bb79a24",
   "metadata": {},
   "outputs": [],
   "source": []
  },
  {
   "cell_type": "code",
   "execution_count": null,
   "id": "80a30a8f",
   "metadata": {},
   "outputs": [],
   "source": []
  },
  {
   "cell_type": "code",
   "execution_count": null,
   "id": "2a387bff",
   "metadata": {},
   "outputs": [],
   "source": []
  },
  {
   "cell_type": "code",
   "execution_count": null,
   "id": "83b981bd",
   "metadata": {},
   "outputs": [],
   "source": []
  },
  {
   "cell_type": "code",
   "execution_count": null,
   "id": "894c808f",
   "metadata": {},
   "outputs": [],
   "source": []
  },
  {
   "cell_type": "code",
   "execution_count": null,
   "id": "3953d229",
   "metadata": {},
   "outputs": [],
   "source": []
  },
  {
   "cell_type": "code",
   "execution_count": null,
   "id": "d2ba966c",
   "metadata": {},
   "outputs": [],
   "source": []
  },
  {
   "cell_type": "code",
   "execution_count": null,
   "id": "0a123fd3",
   "metadata": {},
   "outputs": [],
   "source": []
  },
  {
   "cell_type": "code",
   "execution_count": null,
   "id": "53e138f1",
   "metadata": {},
   "outputs": [],
   "source": []
  },
  {
   "cell_type": "code",
   "execution_count": null,
   "id": "fc064723",
   "metadata": {},
   "outputs": [],
   "source": []
  },
  {
   "cell_type": "code",
   "execution_count": null,
   "id": "ab3186aa",
   "metadata": {},
   "outputs": [],
   "source": []
  },
  {
   "cell_type": "code",
   "execution_count": null,
   "id": "676d9340",
   "metadata": {},
   "outputs": [],
   "source": []
  },
  {
   "cell_type": "code",
   "execution_count": null,
   "id": "771168ce",
   "metadata": {},
   "outputs": [],
   "source": []
  },
  {
   "cell_type": "code",
   "execution_count": null,
   "id": "9c6e3762",
   "metadata": {},
   "outputs": [],
   "source": []
  },
  {
   "cell_type": "code",
   "execution_count": null,
   "id": "f7c117d9",
   "metadata": {},
   "outputs": [],
   "source": []
  },
  {
   "cell_type": "code",
   "execution_count": null,
   "id": "e8d63677",
   "metadata": {},
   "outputs": [],
   "source": []
  },
  {
   "cell_type": "code",
   "execution_count": null,
   "id": "68aa7768",
   "metadata": {},
   "outputs": [],
   "source": []
  },
  {
   "cell_type": "code",
   "execution_count": null,
   "id": "a96f0012",
   "metadata": {},
   "outputs": [],
   "source": []
  },
  {
   "cell_type": "code",
   "execution_count": null,
   "id": "763ca0b9",
   "metadata": {},
   "outputs": [],
   "source": []
  },
  {
   "cell_type": "code",
   "execution_count": null,
   "id": "e4be3559",
   "metadata": {},
   "outputs": [],
   "source": []
  },
  {
   "cell_type": "code",
   "execution_count": null,
   "id": "b549b6e1",
   "metadata": {},
   "outputs": [],
   "source": []
  },
  {
   "cell_type": "code",
   "execution_count": null,
   "id": "fd646f33",
   "metadata": {},
   "outputs": [],
   "source": []
  }
 ],
 "metadata": {
  "kernelspec": {
   "display_name": "Python 3 (ipykernel)",
   "language": "python",
   "name": "python3"
  },
  "language_info": {
   "codemirror_mode": {
    "name": "ipython",
    "version": 3
   },
   "file_extension": ".py",
   "mimetype": "text/x-python",
   "name": "python",
   "nbconvert_exporter": "python",
   "pygments_lexer": "ipython3",
   "version": "3.10.9"
  }
 },
 "nbformat": 4,
 "nbformat_minor": 5
}
