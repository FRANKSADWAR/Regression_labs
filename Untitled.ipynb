{
 "cells": [
  {
   "cell_type": "code",
   "execution_count": 2,
   "id": "47a1954d",
   "metadata": {},
   "outputs": [
    {
     "name": "stdout",
     "output_type": "stream",
     "text": [
      "3.526955675976101\n"
     ]
    }
   ],
   "source": [
    "opened_file = open('AppleStore.csv')\n",
    "from csv import reader\n",
    "read_file = reader(opened_file)\n",
    "apps_data = list(read_file)\n",
    "\n",
    "rating_sum = 0\n",
    "header = apps_data[0]\n",
    "apps_data = apps_data[1:]\n",
    "\n",
    "for row in apps_data:\n",
    "    rating = float(row[7])\n",
    "    rating_sum = rating_sum + rating\n",
    "    \n",
    "avg_rating = rating_sum/len(apps_data)    \n",
    "print(avg_rating)"
   ]
  },
  {
   "cell_type": "code",
   "execution_count": 3,
   "id": "0ba33fd3",
   "metadata": {},
   "outputs": [
    {
     "name": "stdout",
     "output_type": "stream",
     "text": [
      "3.526955675976101\n"
     ]
    }
   ],
   "source": [
    "opened_file = open('AppleStore.csv')\n",
    "from csv import reader\n",
    "read_file = reader(opened_file)\n",
    "apps_data = list(read_file)\n",
    "\n",
    "rating_sum = []\n",
    "header = apps_data[0]\n",
    "\n",
    "apps_data = apps_data[1:]\n",
    "\n",
    "for row in apps_data:\n",
    "    rating = float(row[7])\n",
    "    rating_sum.append(rating)\n",
    "    \n",
    "avg_rating = sum(rating_sum)/ len(rating_sum)\n",
    "print(avg_rating)"
   ]
  },
  {
   "cell_type": "code",
   "execution_count": 4,
   "id": "32d464af",
   "metadata": {},
   "outputs": [
    {
     "name": "stdout",
     "output_type": "stream",
     "text": [
      "3.6850077679958573\n",
      "3.343928035982009\n"
     ]
    }
   ],
   "source": [
    "opened_file = open('AppleStore.csv')\n",
    "from csv import reader\n",
    "read_file = reader(opened_file)\n",
    "apps_data = list(read_file)\n",
    "\n",
    "games_ratings = []\n",
    "non_games_ratings = []\n",
    "\n",
    "for row in apps_data[1:]:\n",
    "    rating = float(row[7])\n",
    "    genre = row[11]\n",
    "    if genre == 'Games':\n",
    "        games_ratings.append(rating)\n",
    "        \n",
    "    if genre != 'Games':\n",
    "        non_games_ratings.append(rating)\n",
    "           \n",
    "avg_rating_games = sum(games_ratings)/len(games_ratings)\n",
    "avg_rating_non_games = sum(non_games_ratings) / len(non_games_ratings)\n",
    "print(avg_rating_games)\n",
    "print(avg_rating_non_games)"
   ]
  },
  {
   "cell_type": "markdown",
   "id": "8f17898d",
   "metadata": {},
   "source": [
    "##### Whats the average rating of free gaming apps ?\n",
    "##### Whats the average of non-free gaming apps ?\n",
    "##### Whats the average rating of social-networking apps ?\n",
    "##### Whats the average rating of non-free social-networking apps ?\n",
    "##### Whats the average rating of free-networking apps ?\n"
   ]
  },
  {
   "cell_type": "code",
   "execution_count": 6,
   "id": "d7c1f32c",
   "metadata": {},
   "outputs": [
    {
     "name": "stdout",
     "output_type": "stream",
     "text": [
      "3.655994043186895\n"
     ]
    }
   ],
   "source": [
    "games_social_rating = []\n",
    "for row in apps_data[1:]:\n",
    "    rating = float(row[7])\n",
    "    genre = row[11]\n",
    "    \n",
    "    if genre == 'Social Networking' or genre == 'Games':\n",
    "        games_social_rating.append(rating)\n",
    "        \n",
    "avg_social_games = sum(games_social_rating)/len(games_social_rating)\n",
    "print(avg_social_games)"
   ]
  },
  {
   "cell_type": "code",
   "execution_count": null,
   "id": "55200154",
   "metadata": {},
   "outputs": [],
   "source": [
    "free_games"
   ]
  },
  {
   "cell_type": "code",
   "execution_count": null,
   "id": "e6b11c07",
   "metadata": {},
   "outputs": [],
   "source": []
  },
  {
   "cell_type": "code",
   "execution_count": null,
   "id": "525b5da7",
   "metadata": {},
   "outputs": [],
   "source": []
  },
  {
   "cell_type": "code",
   "execution_count": null,
   "id": "d8cdf57f",
   "metadata": {},
   "outputs": [],
   "source": []
  },
  {
   "cell_type": "code",
   "execution_count": null,
   "id": "20202417",
   "metadata": {},
   "outputs": [],
   "source": []
  },
  {
   "cell_type": "code",
   "execution_count": null,
   "id": "c6c40e03",
   "metadata": {},
   "outputs": [],
   "source": []
  },
  {
   "cell_type": "code",
   "execution_count": null,
   "id": "44a736ef",
   "metadata": {},
   "outputs": [],
   "source": []
  },
  {
   "cell_type": "code",
   "execution_count": null,
   "id": "37770141",
   "metadata": {},
   "outputs": [],
   "source": []
  }
 ],
 "metadata": {
  "kernelspec": {
   "display_name": "Python 3 (ipykernel)",
   "language": "python",
   "name": "python3"
  },
  "language_info": {
   "codemirror_mode": {
    "name": "ipython",
    "version": 3
   },
   "file_extension": ".py",
   "mimetype": "text/x-python",
   "name": "python",
   "nbconvert_exporter": "python",
   "pygments_lexer": "ipython3",
   "version": "3.11.5"
  }
 },
 "nbformat": 4,
 "nbformat_minor": 5
}
